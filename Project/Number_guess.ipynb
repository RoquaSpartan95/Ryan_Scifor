{
  "nbformat": 4,
  "nbformat_minor": 0,
  "metadata": {
    "colab": {
      "provenance": [],
      "authorship_tag": "ABX9TyM7r4nNOs9a1j3mhWxn86pe",
      "include_colab_link": true
    },
    "kernelspec": {
      "name": "python3",
      "display_name": "Python 3"
    },
    "language_info": {
      "name": "python"
    }
  },
  "cells": [
    {
      "cell_type": "markdown",
      "metadata": {
        "id": "view-in-github",
        "colab_type": "text"
      },
      "source": [
        "<a href=\"https://colab.research.google.com/github/RoquaSpartan95/Ryan_Scifor/blob/main/Number_guess.ipynb\" target=\"_parent\"><img src=\"https://colab.research.google.com/assets/colab-badge.svg\" alt=\"Open In Colab\"/></a>"
      ]
    },
    {
      "cell_type": "code",
      "execution_count": 1,
      "metadata": {
        "colab": {
          "base_uri": "https://localhost:8080/"
        },
        "id": "iDg55kI339N7",
        "outputId": "30f543de-bb07-4ce7-cb4c-de8f03aad48e"
      },
      "outputs": [
        {
          "output_type": "stream",
          "name": "stdout",
          "text": [
            "\n",
            "  _   __                 _                    _____                     \n",
            " | \\ |  |               | |                  / ____|                    \n",
            " |  \\|  |_   _ _ __ ___ | |__   ___  __ __  | |  __ _   __  ____   ____   ____ \n",
            " | . `  | | | | '_ ` _ \\| '_ \\ / _ \\| ' __| | | |_ | | |  |/  _ \\ /      / \n",
            " | |\\   | |_| | | | | | | |_) /| __/| / |   | |__| | |_|  |   __/ \\____  \\____   \n",
            " | | \\  |\\  | | | | | | | | /  \\    | '/    \\      |\\     |\\    |      |      |\n",
            " |_|  \\_| \\_|_| |_| |_| .__/    \\__/\\_/      \\_____| \\__,_| \\___| \\___/  \\___/\n",
            "\n",
            "Welcome to the Number Guessing Game!\n",
            "I'm thinking of a number between 1 and 100.\n",
            "Choose a difficulty. Type 'easy' or 'hard': hard\n",
            "You have 5 attempts remaining to guess the number.\n",
            "Make a guess: 60\n",
            "Too low.\n",
            "Guess again.\n",
            "You have 4 attempts remaining to guess the number.\n",
            "Make a guess: 70\n",
            "Too low.\n",
            "Guess again.\n",
            "You have 3 attempts remaining to guess the number.\n",
            "Make a guess: 80\n",
            "Too low.\n",
            "Guess again.\n",
            "You have 2 attempts remaining to guess the number.\n",
            "Make a guess: 90\n",
            "Too low.\n",
            "Guess again.\n",
            "You have 1 attempts remaining to guess the number.\n",
            "Make a guess: 100\n",
            "You've run out of guesses, you lose! The answer was 91.\n"
          ]
        }
      ],
      "source": [
        "import random\n",
        "import os\n",
        "\n",
        "logo = \"\"\"\n",
        "  _   __                 _                    _____\n",
        " | \\ |  |               | |                  / ____|\n",
        " |  \\|  |_   _ _ __ ___ | |__   ___  __ __  | |  __ _   __  ____   ____   ____\n",
        " | . `  | | | | '_ ` _ \\| '_ \\ / _ \\| ' __| | | |_ | | |  |/  _ \\ /      /\n",
        " | |\\   | |_| | | | | | | |_) /| __/| / |   | |__| | |_|  |   __/ \\____  \\____\n",
        " | | \\  |\\  | | | | | | | | /  \\    | '/    \\      |\\     |\\    |      |      |\n",
        " |_|  \\_| \\_|_| |_| |_| .__/    \\__/\\_/      \\_____| \\__,_| \\___| \\___/  \\___/\n",
        "\"\"\"\n",
        "os.system(\"clear\")\n",
        "print(logo)\n",
        "\n",
        "\n",
        "def difficult(easy_or_hard):\n",
        "    if easy_or_hard == \"easy\":\n",
        "        return 10\n",
        "    elif easy_or_hard == \"hard\":\n",
        "        return 5\n",
        "    else:\n",
        "        again = input(\"Invalid syntax. Please enter 'easy' or 'hard': \")\n",
        "        return difficult(again)\n",
        "\n",
        "\n",
        "chosen_number = random.randint(1, 100)\n",
        "print(\"Welcome to the Number Guessing Game!\")\n",
        "print(\"I'm thinking of a number between 1 and 100.\")\n",
        "difficulty = input(\"Choose a difficulty. Type 'easy' or 'hard': \")\n",
        "attempts = difficult(difficulty)\n",
        "print(f\"You have {attempts} attempts remaining to guess the number.\")\n",
        "guess=0\n",
        "while guess!=chosen_number:\n",
        "    guess = int(input(\"Make a guess: \"))\n",
        "    attempts -= 1\n",
        "    if attempts == 0:\n",
        "        print(f\"You've run out of guesses, you lose! The answer was {chosen_number}.\")\n",
        "        break\n",
        "    if guess > chosen_number:\n",
        "        print(\"Too high.\")\n",
        "    elif guess < chosen_number:\n",
        "        print(\"Too low.\")\n",
        "    elif guess == chosen_number:\n",
        "        print(f\"You got it!. The answer was {chosen_number}.\")\n",
        "        break\n",
        "    else:\n",
        "        print(f\"You lose the game!. The answer was {chosen_number}.\")\n",
        "        break\n",
        "    print(\"Guess again.\")\n",
        "    print(f\"You have {attempts} attempts remaining to guess the number.\")"
      ]
    }
  ]
}