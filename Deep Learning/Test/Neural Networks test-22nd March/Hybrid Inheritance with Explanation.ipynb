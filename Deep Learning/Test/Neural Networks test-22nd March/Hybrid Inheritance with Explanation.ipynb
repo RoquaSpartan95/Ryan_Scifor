{
 "cells": [
  {
   "cell_type": "code",
   "execution_count": 3,
   "id": "e36f760c",
   "metadata": {},
   "outputs": [
    {
     "name": "stdout",
     "output_type": "stream",
     "text": [
      "None\n",
      "Dog Barks\n",
      "Dog Barks\n",
      "scary look\n",
      "Has 4 Legs\n",
      "Dog Barks\n",
      "Has 4 Legs\n",
      "scary look\n",
      "is a Bulldog\n",
      "Is Overweight\n"
     ]
    }
   ],
   "source": [
    "class Animal():\n",
    "    def speak(self):\n",
    "        pass\n",
    "#Single Level Inheritance\n",
    "class Dog(Animal):\n",
    "    def speak(self):\n",
    "        return \"Dog Barks\"\n",
    "class mammal(Animal):\n",
    "    def legs(self):\n",
    "        return \"Has 4 Legs\"\n",
    "#Multiple-Inheritance(as it inherits both Dog and Mammal Class) and Multi-level-Inheritance is seen  in class Bulldog as its inherited from Dog Class which is in turen inherited from Animal Class\n",
    "class Bulldog(Dog,mammal):\n",
    "    def look(self):\n",
    "        return \"scary look\"\n",
    "#Class Bully is an example of hybrid Inheritance as it makes use of all the other types of inheritance when inherited from class Bulldog\n",
    "class Bully(Bulldog):\n",
    "    def type(self):\n",
    "        return \"is a Bulldog\"\n",
    "    def weight(self):\n",
    "        return \"Is Overweight\"\n",
    "A1=Animal()\n",
    "print(A1.speak())\n",
    "D1=Dog()\n",
    "print(D1.speak())\n",
    "B1=Bulldog()\n",
    "print(B1.speak())\n",
    "print(B1.look())\n",
    "print(B1.legs())\n",
    "B2=Bully()\n",
    "print(B2.speak())\n",
    "print(B2.legs())\n",
    "print(B2.look())\n",
    "print(B2.type())\n",
    "print(B2.weight())\n"
   ]
  },
  {
   "cell_type": "code",
   "execution_count": null,
   "id": "7514839f",
   "metadata": {},
   "outputs": [],
   "source": []
  }
 ],
 "metadata": {
  "kernelspec": {
   "display_name": "Python 3 (ipykernel)",
   "language": "python",
   "name": "python3"
  },
  "language_info": {
   "codemirror_mode": {
    "name": "ipython",
    "version": 3
   },
   "file_extension": ".py",
   "mimetype": "text/x-python",
   "name": "python",
   "nbconvert_exporter": "python",
   "pygments_lexer": "ipython3",
   "version": "3.10.9"
  }
 },
 "nbformat": 4,
 "nbformat_minor": 5
}
